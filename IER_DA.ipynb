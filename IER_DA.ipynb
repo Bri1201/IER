{
 "cells": [
  {
   "cell_type": "markdown",
   "id": "77000783",
   "metadata": {},
   "source": [
    "#                          School of Computer Science and Engineering\n",
    "\n",
    "#                                               Winter 2022-2023\n",
    "\n",
    "#                         BCD-3005 Information Extraction and Retrieval\n",
    "\n",
    "#                                              Digital Assignemnt-1\n",
    "\n",
    "#                                                          B1+TB1\n",
    "\n",
    "### Brinda Dhingra\n",
    "### 20BDS0198\n",
    "\n"
   ]
  },
  {
   "cell_type": "markdown",
   "id": "d5522748",
   "metadata": {},
   "source": [
    "#### Write a python program to implement the retrieval models for the query Q=”OpenAI chatbot chatGPT\""
   ]
  },
  {
   "cell_type": "code",
   "execution_count": 4,
   "id": "45e72c24",
   "metadata": {},
   "outputs": [],
   "source": [
    "#Importing the required libraries\n",
    "\n",
    "import pandas as pd\n",
    "from nltk.stem import WordNetLemmatizer\n",
    "from nltk.tokenize import RegexpTokenizer\n",
    "from nltk.tokenize import word_tokenize\n",
    "from nltk.corpus import stopwords\n",
    "\n"
   ]
  },
  {
   "cell_type": "code",
   "execution_count": 5,
   "id": "8b5b7763",
   "metadata": {},
   "outputs": [],
   "source": [
    "#Defining the documents and the query\n",
    "\n",
    "D1 = \"\"\"Since OpenAI released its blockbuster bot ChatGPT in November, users have casually \n",
    "experimented with the tool, with even Insider reporters trying to simulate news stories or \n",
    "message potential dates.To older millennials who grew up with IRC chat rooms — a text \n",
    "instant message system — the personal tone of conversations with the bot can evoke the \n",
    "experience of chatting online. But ChatGPT, the latest in technology known as \"large \n",
    "language model tools,\" doesn't speak with sentience and doesn't \"think\" the way people do.\"\"\"\n",
    "    \n",
    "    \n",
    "D2 = \"\"\"Other tech companies like Google and Meta have developed their own large language \n",
    "model tools, which use programs that take in human prompts and devise sophisticated \n",
    "responses. OpenAI, in a revolutionary move, also created a user interface that is letting the \n",
    "general public experiment with it directly. Some recent efforts to use chat bots for real-world \n",
    "services have proved troubling — with odd results. The mental health company Koko came \n",
    "under fire this month after its founder wrote about how the company used GPT-3 in an \n",
    "experiment to reply to users.\"\"\"\n",
    "D3 =  \"\"\"The founder of the controversial DoNotPay service, which claims its GPT-3-driven chat \n",
    "bot helps users resolve customer service disputes, also said an AI \"lawyer\" would advise \n",
    "defendants in actual courtroom traffic cases in real time, though he later walked that\n",
    "back over concerns about its risks. Chat GPT is an AI Chatbot developed by Open AI. The \n",
    "chatbot has a language-based model that the developer fine-tunes for human interaction in a \n",
    "conversational manner. Effectively it’s a simulated chatbot primarily designed for customer \n",
    "service; people use it for various other purposes too though. These range from writing essays \n",
    "to drafting business plans, to generating code. But what is it and what can it really do? \"\"\"\n",
    "\n",
    "D4= \"\"\"Chat GPT is an AI chatbot auto-generative system created by Open AI for online \n",
    "customer care. It is a pre-trained generative chat, which makes use of (NLP) Natural \n",
    "Language Processing. The source of its data is textbooks, websites, and various articles, \n",
    "which it uses to model its own language for responding to human interaction. The main \n",
    "feature of Chat GPT is generating responses like those humans would provide, in a text box. \n",
    "Therefore, it is suitable for chatbots, AI system conversations, and virtual \n",
    "assistants. However, it can also give natural answers to questions in a conversational tone and \n",
    "can generate stories poems and more. Moreover, it can: Write code, Write an article or blog \n",
    "post, Translate, Debug, Write a story/poem, Recommend chords and lyrics\"\"\"\n",
    "\n",
    "\n",
    "query = \"OpenAI chatbot chatGPT\"\n",
    "\n"
   ]
  },
  {
   "cell_type": "code",
   "execution_count": 6,
   "id": "f6591e2e",
   "metadata": {
    "scrolled": true
   },
   "outputs": [
    {
     "data": {
      "text/html": [
       "<div>\n",
       "<style scoped>\n",
       "    .dataframe tbody tr th:only-of-type {\n",
       "        vertical-align: middle;\n",
       "    }\n",
       "\n",
       "    .dataframe tbody tr th {\n",
       "        vertical-align: top;\n",
       "    }\n",
       "\n",
       "    .dataframe thead th {\n",
       "        text-align: right;\n",
       "    }\n",
       "</style>\n",
       "<table border=\"1\" class=\"dataframe\">\n",
       "  <thead>\n",
       "    <tr style=\"text-align: right;\">\n",
       "      <th></th>\n",
       "      <th>text</th>\n",
       "    </tr>\n",
       "  </thead>\n",
       "  <tbody>\n",
       "    <tr>\n",
       "      <th>0</th>\n",
       "      <td>Since OpenAI released its blockbuster bot Chat...</td>\n",
       "    </tr>\n",
       "    <tr>\n",
       "      <th>1</th>\n",
       "      <td>Other tech companies like Google and Meta have...</td>\n",
       "    </tr>\n",
       "    <tr>\n",
       "      <th>2</th>\n",
       "      <td>The founder of the controversial DoNotPay serv...</td>\n",
       "    </tr>\n",
       "    <tr>\n",
       "      <th>3</th>\n",
       "      <td>Chat GPT is an AI chatbot auto-generative syst...</td>\n",
       "    </tr>\n",
       "  </tbody>\n",
       "</table>\n",
       "</div>"
      ],
      "text/plain": [
       "                                                text\n",
       "0  Since OpenAI released its blockbuster bot Chat...\n",
       "1  Other tech companies like Google and Meta have...\n",
       "2  The founder of the controversial DoNotPay serv...\n",
       "3  Chat GPT is an AI chatbot auto-generative syst..."
      ]
     },
     "execution_count": 6,
     "metadata": {},
     "output_type": "execute_result"
    }
   ],
   "source": [
    "x = pd.DataFrame({'text': [D1, D2,D3,D4]})\n",
    "x"
   ]
  },
  {
   "cell_type": "code",
   "execution_count": 43,
   "id": "0c00593f",
   "metadata": {},
   "outputs": [],
   "source": [
    "# function to preprocess a text document by tokenizing it, lemmatizing it and removing stop words"
   ]
  },
  {
   "cell_type": "code",
   "execution_count": 44,
   "id": "97b5d339",
   "metadata": {},
   "outputs": [],
   "source": [
    "def preprocess_text(text):\n",
    "    # Tokenise words while ignoring punctuation\n",
    "    tokeniser = RegexpTokenizer(r'\\w+')\n",
    "    tokens = tokeniser.tokenize(text)\n",
    "    \n",
    "    # Lowercase and lemmatise \n",
    "    lemmatiser = WordNetLemmatizer()\n",
    "    lemmas = [lemmatiser.lemmatize(token.lower(), pos='v') for token in tokens]\n",
    "    \n",
    "    # Remove stopwords\n",
    "    keywords= [lemma for lemma in lemmas if lemma not in stopwords.words('english')]\n",
    "    return keywords\n",
    "\n",
    "x['preprocessed'] = [preprocess_text(doc) for doc in x['text']]"
   ]
  },
  {
   "cell_type": "code",
   "execution_count": 45,
   "id": "24a56849",
   "metadata": {},
   "outputs": [
    {
     "name": "stdout",
     "output_type": "stream",
     "text": [
      "265\n",
      "179\n"
     ]
    }
   ],
   "source": [
    "# Tokenize each document in the 'text' column and preprocess the text\n",
    "tokenized_docs = [preprocess_text(doc) for doc in x['text']]\n",
    "\n",
    "# Create a consolidated list to make a vocabulary of all terms\n",
    "# Flatten the list of tokenized documents into a single list of tokens\n",
    "all_tokens = [token for doc in tokenized_docs for token in doc]\n",
    "\n",
    "#Get a list of unique tokens\n",
    "unique_tokens = list(set(all_tokens))\n",
    "\n",
    "print(len(all_tokens))\n",
    "print(len(unique_tokens))"
   ]
  },
  {
   "cell_type": "code",
   "execution_count": 46,
   "id": "63b4d0be",
   "metadata": {},
   "outputs": [],
   "source": [
    "# Create a dictionary to store the document frequency for each token\n",
    "doc_freq = {token:0 for token in unique_tokens}\n",
    "\n",
    "# Iterate through each tokenized document and update the document frequency\n",
    "# how many times a term appears in a document\n",
    "for doc_tokens in tokenized_docs:\n",
    "    for token in set(doc_tokens):\n",
    "        doc_freq[token] += 1"
   ]
  },
  {
   "cell_type": "code",
   "execution_count": 47,
   "id": "1c332de9",
   "metadata": {},
   "outputs": [
    {
     "name": "stdout",
     "output_type": "stream",
     "text": [
      "            document_frequency\n",
      "model                        4\n",
      "chat                         4\n",
      "language                     4\n",
      "users                        3\n",
      "also                         3\n",
      "...                        ...\n",
      "assistants                   1\n",
      "prompt                       1\n",
      "speak                        1\n",
      "purpose                      1\n",
      "chord                        1\n",
      "\n",
      "[179 rows x 1 columns]\n"
     ]
    }
   ],
   "source": [
    "# Convert the dictionary to a dataframe\n",
    "df_doc_freq = pd.DataFrame.from_dict(doc_freq, orient='index', columns=['document_frequency'])\n",
    "\n",
    "# Sort the dataframe by document frequency in descending order\n",
    "df_doc_freq = df_doc_freq.sort_values(by=['document_frequency'], ascending=False)\n",
    "\n",
    "# Print the dataframe\n",
    "print(df_doc_freq)"
   ]
  },
  {
   "cell_type": "code",
   "execution_count": 48,
   "id": "cd7aad73",
   "metadata": {},
   "outputs": [
    {
     "name": "stdout",
     "output_type": "stream",
     "text": [
      "          document_frequency       idf\n",
      "model                      4  0.000000\n",
      "chat                       4  0.000000\n",
      "language                   4  0.000000\n",
      "users                      3  0.287682\n",
      "also                       3  0.287682\n",
      "...                      ...       ...\n",
      "poems                      1  1.386294\n",
      "moreover                   1  1.386294\n",
      "chatgpt                    1  1.386294\n",
      "design                     1  1.386294\n",
      "chord                      1  1.386294\n",
      "\n",
      "[179 rows x 2 columns]\n"
     ]
    }
   ],
   "source": [
    "import math\n",
    "\n",
    "# Get the total number of documents in the corpus\n",
    "num_docs = len(x)\n",
    "\n",
    "# Calculate the idf for each term in the corpus\n",
    "df_doc_freq['idf'] = df_doc_freq.apply(lambda row: math.log(num_docs / row['document_frequency']), axis=1)\n",
    "\n",
    "# Sort the dataframe by idf in ascending order\n",
    "df_doc_freq = df_doc_freq.sort_values(by=['idf'], ascending=True)\n",
    "\n",
    "# Print the dataframe\n",
    "print(df_doc_freq)\n"
   ]
  },
  {
   "cell_type": "code",
   "execution_count": 49,
   "id": "59540f6d",
   "metadata": {},
   "outputs": [
    {
     "name": "stdout",
     "output_type": "stream",
     "text": [
      "  make humans tech  irc  way personal real general auto potential  ...  \\\n",
      "0    0      0    0  1.0  1.0      1.0    0       0    0       1.0  ...   \n",
      "1    0      0  1.0    0    0        0  1.0     1.0    0         0  ...   \n",
      "2    0      0    0    0    0        0  1.0       0    0         0  ...   \n",
      "3  1.0    1.0    0    0    0        0    0       0  1.0         0  ...   \n",
      "\n",
      "    message debug instant  try resolve   article text since insider chord  \n",
      "0  1.693147     0     1.0  1.0       0         0  1.0   1.0     1.0     0  \n",
      "1         0     0       0    0       0         0    0     0       0     0  \n",
      "2         0     0       0    0     1.0         0    0     0       0     0  \n",
      "3         0   1.0       0    0       0  1.693147  1.0     0       0   1.0  \n",
      "\n",
      "[4 rows x 179 columns]\n"
     ]
    }
   ],
   "source": [
    "# Create a dataframe to store the term frequency for each term in each document\n",
    "df_tf = pd.DataFrame(columns=unique_tokens)\n",
    "\n",
    "# Iterate through each document in the corpus\n",
    "for i, doc_tokens in enumerate(tokenized_docs):\n",
    "    # Create a dictionary to store the term frequency for the current document\n",
    "    term_freq = {token:0 for token in unique_tokens}\n",
    "    \n",
    "    # Iterate through each token in the current document and update the term frequency\n",
    "    for token in doc_tokens:\n",
    "        term_freq[token] += 1\n",
    "    \n",
    "    # Calculate the term frequency using the formula tf_ij = 1 + log(f_ij)\n",
    "    for token in unique_tokens:\n",
    "        tf_ij = 1 + math.log(term_freq[token]) if term_freq[token] > 0 else 0\n",
    "        df_tf.loc[i, token] = tf_ij\n",
    "\n",
    "# Print the dataframes\n",
    "#print(df_doc_freq)\n",
    "print(df_tf)"
   ]
  },
  {
   "cell_type": "code",
   "execution_count": 50,
   "id": "ecf688f6",
   "metadata": {},
   "outputs": [],
   "source": [
    "df_doc_freq = df_doc_freq.sort_index(axis=0, ascending=True)\n",
    "#print(type(df_sorted['idf']))"
   ]
  },
  {
   "cell_type": "code",
   "execution_count": 51,
   "id": "d72412bb",
   "metadata": {},
   "outputs": [
    {
     "name": "stdout",
     "output_type": "stream",
     "text": [
      "<class 'pandas.core.frame.DataFrame'>\n"
     ]
    }
   ],
   "source": [
    "df_tf = df_tf.sort_index(axis=1)\n",
    "print(type(df_sorted_cols))"
   ]
  },
  {
   "cell_type": "code",
   "execution_count": 52,
   "id": "222ae916",
   "metadata": {},
   "outputs": [],
   "source": [
    "tf_idf_matrix = df_tf.mul(df_doc_freq ['idf'], axis=1)"
   ]
  },
  {
   "cell_type": "code",
   "execution_count": 53,
   "id": "40397d40",
   "metadata": {},
   "outputs": [
    {
     "name": "stdout",
     "output_type": "stream",
     "text": [
      "          3    actual    advise        ai      also    answer article  \\\n",
      "0       0.0       0.0       0.0       0.0       0.0       0.0     0.0   \n",
      "1  0.693147       0.0       0.0       0.0  0.287682       0.0     0.0   \n",
      "2  0.693147  1.386294  1.386294  1.454647  0.287682       0.0     0.0   \n",
      "3       0.0       0.0       0.0  1.454647  0.287682  1.386294  2.3472   \n",
      "\n",
      "  assistants      auto      back  ...      user     users   various   virtual  \\\n",
      "0        0.0       0.0       0.0  ...       0.0  0.287682       0.0       0.0   \n",
      "1        0.0       0.0       0.0  ...  1.386294  0.287682       0.0       0.0   \n",
      "2        0.0       0.0  1.386294  ...       0.0  0.287682  0.693147       0.0   \n",
      "3   1.386294  1.386294       0.0  ...       0.0       0.0  0.693147  1.386294   \n",
      "\n",
      "       walk       way  websites     world     would     write  \n",
      "0       0.0  1.386294       0.0       0.0       0.0       0.0  \n",
      "1       0.0       0.0       0.0  1.386294       0.0  0.287682  \n",
      "2  1.386294       0.0       0.0       0.0  0.693147  0.287682  \n",
      "3       0.0       0.0  1.386294       0.0  0.693147  0.603733  \n",
      "\n",
      "[4 rows x 179 columns]\n",
      "<class 'pandas.core.frame.DataFrame'>\n",
      "(4, 179)\n"
     ]
    }
   ],
   "source": [
    "print(tf_idf_matrix) \n",
    "print(type(tf_idf_matrix))\n",
    "print(tf_idf_matrix.shape)\n",
    "\n",
    "\n",
    "\n"
   ]
  },
  {
   "cell_type": "code",
   "execution_count": 54,
   "id": "971d556b",
   "metadata": {},
   "outputs": [
    {
     "name": "stdout",
     "output_type": "stream",
     "text": [
      "[0. 0. 0. 0. 0. 0. 0. 0. 0. 0. 0. 0. 0. 0. 0. 0. 0. 0. 0. 0. 0. 1. 0. 1.\n",
      " 0. 0. 0. 0. 0. 0. 0. 0. 0. 0. 0. 0. 0. 0. 0. 0. 0. 0. 0. 0. 0. 0. 0. 0.\n",
      " 0. 0. 0. 0. 0. 0. 0. 0. 0. 0. 0. 0. 0. 0. 0. 0. 0. 0. 0. 0. 0. 0. 0. 0.\n",
      " 0. 0. 0. 0. 0. 0. 0. 0. 0. 0. 0. 0. 0. 0. 0. 0. 0. 0. 0. 0. 0. 0. 0. 0.\n",
      " 0. 0. 0. 0. 0. 0. 0. 0. 0. 0. 1. 0. 0. 0. 0. 0. 0. 0. 0. 0. 0. 0. 0. 0.\n",
      " 0. 0. 0. 0. 0. 0. 0. 0. 0. 0. 0. 0. 0. 0. 0. 0. 0. 0. 0. 0. 0. 0. 0. 0.\n",
      " 0. 0. 0. 0. 0. 0. 0. 0. 0. 0. 0. 0. 0. 0. 0. 0. 0. 0. 0. 0. 0. 0. 0. 0.\n",
      " 0. 0. 0. 0. 0. 0. 0. 0. 0. 0. 0.]\n"
     ]
    }
   ],
   "source": [
    "import numpy as np\n",
    "from sklearn.metrics.pairwise import cosine_similarity\n",
    "\n",
    "# Preprocess the query text\n",
    "query = \"OpenAI chatbot chatGPT\"\n",
    "query_tokens = preprocess_text(query)\n",
    "# Calculate the TF-IDF vector for the query\n",
    "query_tfidf = np.zeros((1, len(df_doc_freq)))\n",
    "df_tfq = pd.DataFrame(columns=unique_tokens)\n",
    "\n",
    "\n",
    "for token in query_tokens:\n",
    "    if token in df_doc_freq.index:\n",
    "        idx = df_doc_freq.index.get_loc(token)\n",
    "        query_tfidf[0, idx] += 1\n",
    "        \n",
    "query_tfidf = query_tfidf[0]\n",
    "#print(query_tfidf)\n",
    "for i in range(len(query_tfidf)):\n",
    "    l = query_tfidf[i]\n",
    "    if(l != 0):\n",
    "        query_tfidf[i] = 1 + np.log(query_tfidf[i])\n",
    "\n",
    "\n",
    "\n",
    "print(query_tfidf)\n",
    "query_vector = np.array(query_tfidf).reshape(1, -1)\n",
    "# print(df_tfq)\n",
    "\n"
   ]
  },
  {
   "cell_type": "code",
   "execution_count": 55,
   "id": "5b94659b",
   "metadata": {},
   "outputs": [
    {
     "name": "stdout",
     "output_type": "stream",
     "text": [
      "[[0.20551543]]\n",
      "[[0.04606241]]\n",
      "[[0.08862686]]\n",
      "[[0.03978138]]\n",
      "{'Document 1': 0.20551543040814366, 'Document 2': 0.0460624066225302, 'Document 3': 0.08862685977946026, 'Document 4': 0.0397813806885025}\n",
      "[0.20551543040814366, 0.0460624066225302, 0.08862685977946026, 0.0397813806885025]\n"
     ]
    }
   ],
   "source": [
    "sim = {}\n",
    "l = []\n",
    "\n",
    "for i in range(len(x)):\n",
    "    doc1 = np.array(tf_idf_matrix.iloc[i].tolist()).reshape(1, -1)\n",
    "    similarity = cosine_similarity(query_vector, doc1)\n",
    "    dname = \"Document \"+ str(i+1)\n",
    "    sim[dname] = similarity[0][0]\n",
    "    l.append(similarity[0][0])\n",
    "    print(similarity)\n",
    "print(sim)\n",
    "print(l)\n",
    "x['qSim'] = l"
   ]
  },
  {
   "cell_type": "code",
   "execution_count": 56,
   "id": "2c3bc428",
   "metadata": {},
   "outputs": [
    {
     "data": {
      "text/html": [
       "<div>\n",
       "<style scoped>\n",
       "    .dataframe tbody tr th:only-of-type {\n",
       "        vertical-align: middle;\n",
       "    }\n",
       "\n",
       "    .dataframe tbody tr th {\n",
       "        vertical-align: top;\n",
       "    }\n",
       "\n",
       "    .dataframe thead th {\n",
       "        text-align: right;\n",
       "    }\n",
       "</style>\n",
       "<table border=\"1\" class=\"dataframe\">\n",
       "  <thead>\n",
       "    <tr style=\"text-align: right;\">\n",
       "      <th></th>\n",
       "      <th>text</th>\n",
       "      <th>preprocessed</th>\n",
       "      <th>qSim</th>\n",
       "    </tr>\n",
       "  </thead>\n",
       "  <tbody>\n",
       "    <tr>\n",
       "      <th>0</th>\n",
       "      <td>Since OpenAI released its blockbuster bot Chat...</td>\n",
       "      <td>[since, openai, release, blockbuster, bot, cha...</td>\n",
       "      <td>0.205515</td>\n",
       "    </tr>\n",
       "    <tr>\n",
       "      <th>1</th>\n",
       "      <td>Other tech companies like Google and Meta have...</td>\n",
       "      <td>[tech, company, like, google, meta, develop, l...</td>\n",
       "      <td>0.046062</td>\n",
       "    </tr>\n",
       "    <tr>\n",
       "      <th>2</th>\n",
       "      <td>The founder of the controversial DoNotPay serv...</td>\n",
       "      <td>[founder, controversial, donotpay, service, cl...</td>\n",
       "      <td>0.088627</td>\n",
       "    </tr>\n",
       "    <tr>\n",
       "      <th>3</th>\n",
       "      <td>Chat GPT is an AI chatbot auto-generative syst...</td>\n",
       "      <td>[chat, gpt, ai, chatbot, auto, generative, sys...</td>\n",
       "      <td>0.039781</td>\n",
       "    </tr>\n",
       "  </tbody>\n",
       "</table>\n",
       "</div>"
      ],
      "text/plain": [
       "                                                text  \\\n",
       "0  Since OpenAI released its blockbuster bot Chat...   \n",
       "1  Other tech companies like Google and Meta have...   \n",
       "2  The founder of the controversial DoNotPay serv...   \n",
       "3  Chat GPT is an AI chatbot auto-generative syst...   \n",
       "\n",
       "                                        preprocessed      qSim  \n",
       "0  [since, openai, release, blockbuster, bot, cha...  0.205515  \n",
       "1  [tech, company, like, google, meta, develop, l...  0.046062  \n",
       "2  [founder, controversial, donotpay, service, cl...  0.088627  \n",
       "3  [chat, gpt, ai, chatbot, auto, generative, sys...  0.039781  "
      ]
     },
     "execution_count": 56,
     "metadata": {},
     "output_type": "execute_result"
    }
   ],
   "source": [
    "x\n",
    "    "
   ]
  },
  {
   "cell_type": "code",
   "execution_count": 57,
   "id": "b29a839d",
   "metadata": {},
   "outputs": [
    {
     "data": {
      "text/html": [
       "<div>\n",
       "<style scoped>\n",
       "    .dataframe tbody tr th:only-of-type {\n",
       "        vertical-align: middle;\n",
       "    }\n",
       "\n",
       "    .dataframe tbody tr th {\n",
       "        vertical-align: top;\n",
       "    }\n",
       "\n",
       "    .dataframe thead th {\n",
       "        text-align: right;\n",
       "    }\n",
       "</style>\n",
       "<table border=\"1\" class=\"dataframe\">\n",
       "  <thead>\n",
       "    <tr style=\"text-align: right;\">\n",
       "      <th></th>\n",
       "      <th>text</th>\n",
       "      <th>preprocessed</th>\n",
       "      <th>qSim</th>\n",
       "    </tr>\n",
       "  </thead>\n",
       "  <tbody>\n",
       "    <tr>\n",
       "      <th>0</th>\n",
       "      <td>Since OpenAI released its blockbuster bot Chat...</td>\n",
       "      <td>[since, openai, release, blockbuster, bot, cha...</td>\n",
       "      <td>0.205515</td>\n",
       "    </tr>\n",
       "    <tr>\n",
       "      <th>2</th>\n",
       "      <td>The founder of the controversial DoNotPay serv...</td>\n",
       "      <td>[founder, controversial, donotpay, service, cl...</td>\n",
       "      <td>0.088627</td>\n",
       "    </tr>\n",
       "    <tr>\n",
       "      <th>1</th>\n",
       "      <td>Other tech companies like Google and Meta have...</td>\n",
       "      <td>[tech, company, like, google, meta, develop, l...</td>\n",
       "      <td>0.046062</td>\n",
       "    </tr>\n",
       "    <tr>\n",
       "      <th>3</th>\n",
       "      <td>Chat GPT is an AI chatbot auto-generative syst...</td>\n",
       "      <td>[chat, gpt, ai, chatbot, auto, generative, sys...</td>\n",
       "      <td>0.039781</td>\n",
       "    </tr>\n",
       "  </tbody>\n",
       "</table>\n",
       "</div>"
      ],
      "text/plain": [
       "                                                text  \\\n",
       "0  Since OpenAI released its blockbuster bot Chat...   \n",
       "2  The founder of the controversial DoNotPay serv...   \n",
       "1  Other tech companies like Google and Meta have...   \n",
       "3  Chat GPT is an AI chatbot auto-generative syst...   \n",
       "\n",
       "                                        preprocessed      qSim  \n",
       "0  [since, openai, release, blockbuster, bot, cha...  0.205515  \n",
       "2  [founder, controversial, donotpay, service, cl...  0.088627  \n",
       "1  [tech, company, like, google, meta, develop, l...  0.046062  \n",
       "3  [chat, gpt, ai, chatbot, auto, generative, sys...  0.039781  "
      ]
     },
     "execution_count": 57,
     "metadata": {},
     "output_type": "execute_result"
    }
   ],
   "source": [
    "#The ranked documents are\n",
    "x.sort_values(by=['qSim'], ascending=False)\n",
    "\n"
   ]
  }
 ],
 "metadata": {
  "kernelspec": {
   "display_name": "Python 3 (ipykernel)",
   "language": "python",
   "name": "python3"
  },
  "language_info": {
   "codemirror_mode": {
    "name": "ipython",
    "version": 3
   },
   "file_extension": ".py",
   "mimetype": "text/x-python",
   "name": "python",
   "nbconvert_exporter": "python",
   "pygments_lexer": "ipython3",
   "version": "3.9.13"
  }
 },
 "nbformat": 4,
 "nbformat_minor": 5
}
